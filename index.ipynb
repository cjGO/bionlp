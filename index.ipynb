{
 "cells": [
  {
   "cell_type": "code",
   "execution_count": null,
   "metadata": {},
   "outputs": [],
   "source": [
    "#hide\n",
    "from bionlp_imports import *\n",
    "from bionlp.core import *"
   ]
  },
  {
   "cell_type": "markdown",
   "metadata": {},
   "source": [
    "# BioNLP\n",
    "\n",
    "> Useful fxns for DL with bio seqs"
   ]
  },
  {
   "cell_type": "markdown",
   "metadata": {},
   "source": [
    "## Install"
   ]
  },
  {
   "cell_type": "code",
   "execution_count": null,
   "metadata": {},
   "outputs": [],
   "source": [
    "#hide\n",
    "`pip install your_project_name`"
   ]
  },
  {
   "cell_type": "markdown",
   "metadata": {},
   "source": [
    "## How to use"
   ]
  },
  {
   "cell_type": "markdown",
   "metadata": {},
   "source": [
    "Example starting with synthetic dataset generation."
   ]
  },
  {
   "cell_type": "code",
   "execution_count": null,
   "metadata": {},
   "outputs": [],
   "source": [
    "dna_dict = gen_dna_vocab(kmer=1)"
   ]
  },
  {
   "cell_type": "code",
   "execution_count": null,
   "metadata": {},
   "outputs": [
    {
     "name": "stdout",
     "output_type": "stream",
     "text": [
      "0       GGCTTGGCACCGCGACA\n",
      "1        GACTAATGACGATAGC\n",
      "2    AAGTACGGACCCAATACACA\n",
      "3             CGGTCCCTATT\n",
      "4              GGCCTGGGGG\n",
      "Name: Seqs, dtype: object\n",
      "0     -1.4627878021645846\n",
      "1     -1.5089723939579518\n",
      "2      1.1277829271394852\n",
      "3    -0.12263669912129868\n",
      "4      0.9771985269998379\n",
      "Name: Exp, dtype: object\n"
     ]
    }
   ],
   "source": [
    "synthetic_data = generate_Seqs_Exp_Dataset(50,10,30)\n",
    "#First 5 Sequences\n",
    "print(synthetic_data['Seqs'][:5])\n",
    "#First 5 Expression Values\n",
    "print(synthetic_data['Exp'][:5])"
   ]
  },
  {
   "cell_type": "code",
   "execution_count": null,
   "metadata": {},
   "outputs": [
    {
     "data": {
      "text/plain": [
       "<bionlp.core.DnaDataset at 0x7f993b437580>"
      ]
     },
     "execution_count": null,
     "metadata": {},
     "output_type": "execute_result"
    }
   ],
   "source": [
    "#create a Dataset which can be used with Pytorch Datasets/Dataloaders\n",
    "synthetic_data.Exp = synthetic_data.Exp.astype(float)\n",
    "DnaDataset(synthetic_data)"
   ]
  },
  {
   "cell_type": "code",
   "execution_count": null,
   "metadata": {},
   "outputs": [
    {
     "data": {
      "text/plain": [
       "torch.Size([6, 29])"
      ]
     },
     "execution_count": null,
     "metadata": {},
     "output_type": "execute_result"
    }
   ],
   "source": [
    "#retreive single data point ; One hot encoded + target value \n",
    "DnaDataset(synthetic_data).__getitem__(43)[0].shape"
   ]
  }
 ],
 "metadata": {
  "kernelspec": {
   "display_name": "Python 3",
   "language": "python",
   "name": "python3"
  }
 },
 "nbformat": 4,
 "nbformat_minor": 4
}
